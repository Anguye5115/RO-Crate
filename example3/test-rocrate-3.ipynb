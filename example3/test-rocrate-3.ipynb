{
 "cells": [
  {
   "cell_type": "code",
   "execution_count": 47,
   "id": "990f090e-a06e-4d56-9af8-d64098940db4",
   "metadata": {},
   "outputs": [],
   "source": [
    "from frictionless import Schema\n",
    "from rocrate.rocrate import ROCrate\n",
    "\n",
    "# Create the RO-Crate\n",
    "crate = ROCrate()\n",
    "\n",
    "# Create a schema for the RO-Crate metadata\n",
    "rocrate_schema = Schema.from_descriptor({\n",
    "    \"fields\": [\n",
    "        {\"name\": \"@context\", \"type\": \"string\"},\n",
    "        {\"name\": \"@graph\", \"type\": \"array\"}\n",
    "    ]\n",
    "})\n",
    "\n",
    "# rocrate_schema = Schema.from_descriptor({\n",
    "#     \"fields\": [\n",
    "#         {\"name\": \"@context\", \"type\": \"string\"},\n",
    "#         {\n",
    "#             \"name\": \"@graph\",\n",
    "#             \"type\": \"array\",\n",
    "#             \"constraints\": {\"required\": True},\n",
    "#             \"es_items\": {\n",
    "#                 \"type\": \"object\",\n",
    "#                 \"properties\": {\n",
    "#                     \"@id\": {\"type\": \"string\"},\n",
    "#                     \"@type\": {\"type\": \"string\"},\n",
    "#                     \"name\": {\"type\": \"string\"},\n",
    "#                     \"description\": {\"type\": \"string\"},\n",
    "#                     \"creator\": {\n",
    "#                         \"type\": \"object\",\n",
    "#                         \"properties\": {\n",
    "#                             \"@id\": {\"type\": \"string\"}\n",
    "#                         }\n",
    "#                     },\n",
    "#                     \"encodingFormat\": {\"type\": \"string\"}\n",
    "#                 }\n",
    "#             }\n",
    "#         }\n",
    "#     ]\n",
    "# })\n",
    "\n",
    "rocrate_schema.to_json(\"rocrate_schema.json\")\n",
    "\n",
    "# Add the rocrate schema file to the crate\n",
    "schema_file = crate.add_file(\"rocrate_schema.json\", properties={\n",
    "    \"@type\": \"File\",\n",
    "    \"name\": \"Rocrate Schema\",\n",
    "    \"encodingFormat\": \"application/json\"\n",
    "})"
   ]
  },
  {
   "cell_type": "code",
   "execution_count": 83,
   "id": "f95356a3-2162-4996-8179-60d9d9bc519a",
   "metadata": {},
   "outputs": [],
   "source": [
    "from rocrate.rocrate import ROCrate\n",
    "from frictionless import Schema, Resource\n",
    "\n",
    "# Add metadata to the root dataset\n",
    "root_dataset = crate.root_dataset\n",
    "root_dataset[\"name\"] = \"Example RO-Crate\"\n",
    "root_dataset[\"description\"] = \"This RO-Crate includes a Frictionless schema.\"\n",
    "root_dataset[\"license\"] = \"https://spdx.org/licenses/CC0-1.0\"\n",
    "\n",
    "yaml = crate.add_file(\"data/pfhub.yaml\", properties={\n",
    "    \"name\": \"PFHub meta data file\",\n",
    "    \"encodingFormat\": \"text/yaml\"\n",
    "})\n",
    "csv = crate.add_file(\"data/free_energy_1a.csv\", properties={\n",
    "    \"name\": \"Free Energy\",\n",
    "    \"encodingFormat\": \"text/csv\",\n",
    "    \"column_header\": resource.header\n",
    "})\n",
    "\n",
    "# # Create the Frictionless schema\n",
    "# schema = Schema.from_descriptor({\n",
    "#     \"fields\": [\n",
    "#         {\"name\": \"x\", \"type\": \"number\", \"constraints\": {\"required\": True}},\n",
    "#         {\"name\": \"y\", \"type\": \"number\", \"constraints\": {\"required\": True}},\n",
    "#         {\"name\": \"data_set\", \"type\": \"string\", \"constraints\": {\"required\": True}}\n",
    "#     ]\n",
    "# })\n",
    "# schema.to_json(\"schema.json\")\n",
    "\n",
    "# # Add the schema file to the crate\n",
    "# schema_file = crate.add_file(\"schema.json\", properties={\n",
    "#     \"@type\": \"File\",\n",
    "#     \"name\": \"Schema\",\n",
    "#     \"encodingFormat\": \"application/json\"\n",
    "# })\n",
    "\n",
    "# Save the crate\n",
    "crate.write(\"crate\")"
   ]
  },
  {
   "cell_type": "code",
   "execution_count": 85,
   "id": "9607d34f-c7f6-439c-ab14-be0cdce30afc",
   "metadata": {},
   "outputs": [
    {
     "name": "stdout",
     "output_type": "stream",
     "text": [
      "{'valid': True,\n",
      " 'stats': {'tasks': 1, 'errors': 0, 'warnings': 0, 'seconds': 0.001},\n",
      " 'warnings': [],\n",
      " 'errors': [],\n",
      " 'tasks': [{'name': 'ro-crate-metadata',\n",
      "            'type': 'json',\n",
      "            'valid': True,\n",
      "            'place': 'crate/ro-crate-metadata.json',\n",
      "            'labels': [],\n",
      "            'stats': {'errors': 0, 'warnings': 0, 'seconds': 0.001},\n",
      "            'warnings': [],\n",
      "            'errors': []}]}\n"
     ]
    }
   ],
   "source": [
    "from frictionless import Resource, validate\n",
    "\n",
    "# Validate the ro-crate-metadata.json file\n",
    "resource = Resource(\"crate/ro-crate-metadata.json\", schema=\"rocrate_schema.json\")\n",
    "report = resource.validate()\n",
    "\n",
    "# Print the validation report\n",
    "print(report)"
   ]
  },
  {
   "cell_type": "code",
   "execution_count": 87,
   "id": "9d430a9b-65f1-4c00-917e-952d41867852",
   "metadata": {},
   "outputs": [
    {
     "name": "stdout",
     "output_type": "stream",
     "text": [
      "All required properties are present in the root dataset.\n"
     ]
    }
   ],
   "source": [
    "import json\n",
    "\n",
    "# Load the ro-crate-metadata.json file\n",
    "with open(\"crate/ro-crate-metadata.json\") as f:\n",
    "    metadata = json.load(f)\n",
    "\n",
    "# Check for required properties in the root dataset\n",
    "root_dataset = next(item for item in metadata[\"@graph\"] if item[\"@id\"] == \"./\")\n",
    "required_properties = [\"name\", \"description\", \"license\"]\n",
    "\n",
    "missing_properties = [prop for prop in required_properties if prop not in root_dataset]\n",
    "if missing_properties:\n",
    "    print(f\"Missing properties in root dataset: {missing_properties}\")\n",
    "else:\n",
    "    print(\"All required properties are present in the root dataset.\")"
   ]
  },
  {
   "cell_type": "code",
   "execution_count": 80,
   "id": "f9d066a5-d7a6-4cea-b526-65adb028fd9d",
   "metadata": {},
   "outputs": [
    {
     "name": "stdout",
     "output_type": "stream",
     "text": [
      "Header: ['x', 'y', 'data_set']\n"
     ]
    }
   ],
   "source": [
    "from frictionless import Resource\n",
    "\n",
    "with Resource(\"data/free_energy_1a.csv\") as resource:\n",
    "    print(f\"Header: {resource.header}\")"
   ]
  },
  {
   "cell_type": "code",
   "execution_count": null,
   "id": "05fc6e5a-596a-4a7a-b8f4-c22545853fab",
   "metadata": {},
   "outputs": [],
   "source": []
  },
  {
   "cell_type": "code",
   "execution_count": null,
   "id": "7c536af6-0750-41d9-8db5-8f16dab436a6",
   "metadata": {},
   "outputs": [],
   "source": []
  }
 ],
 "metadata": {
  "kernelspec": {
   "display_name": "Python 3 (ipykernel)",
   "language": "python",
   "name": "python3"
  },
  "language_info": {
   "codemirror_mode": {
    "name": "ipython",
    "version": 3
   },
   "file_extension": ".py",
   "mimetype": "text/x-python",
   "name": "python",
   "nbconvert_exporter": "python",
   "pygments_lexer": "ipython3",
   "version": "3.11.7"
  }
 },
 "nbformat": 4,
 "nbformat_minor": 5
}
