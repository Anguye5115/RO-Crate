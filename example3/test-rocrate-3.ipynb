{
 "cells": [
  {
   "cell_type": "code",
   "execution_count": 6,
   "id": "bf710f25-52dc-4d0d-9383-e83c8e18a47b",
   "metadata": {},
   "outputs": [
    {
     "name": "stdout",
     "output_type": "stream",
     "text": [
      "RO-Crate created successfully with schema.json included.\n"
     ]
    }
   ],
   "source": [
    "from rocrate.rocrate import ROCrate\n",
    "from frictionless import Schema\n",
    "\n",
    "# Create the Frictionless schema\n",
    "schema = Schema.from_descriptor({\n",
    "    \"fields\": [\n",
    "        {\"name\": \"x\", \"type\": \"number\", \"constraints\": {\"required\": True}},\n",
    "        {\"name\": \"y\", \"type\": \"number\", \"constraints\": {\"required\": True}},\n",
    "        {\"name\": \"data_set\", \"type\": \"string\", \"constraints\": {\"required\": True}}\n",
    "    ]\n",
    "})\n",
    "schema.to_json(\"schema.json\")\n",
    "\n",
    "# Create the RO-Crate\n",
    "crate = ROCrate()\n",
    "\n",
    "# Add metadata to the root dataset\n",
    "root_dataset = crate.root_dataset\n",
    "root_dataset[\"name\"] = \"Example RO-Crate\"\n",
    "root_dataset[\"description\"] = \"This RO-Crate includes a Frictionless schema.\"\n",
    "root_dataset[\"creator\"] = {\"@id\": \"https://orcid.org/0000-0000-0000-0000\"}\n",
    "\n",
    "# Add the schema file to the crate\n",
    "schema_file = crate.add_file(\"schema.json\", properties={\n",
    "    \"@type\": \"File\",\n",
    "    \"name\": \"Schema\",\n",
    "    \"encodingFormat\": \"application/json\"\n",
    "})\n",
    "\n",
    "# Save the crate\n",
    "crate.write(\"crate\")\n",
    "\n",
    "print(\"RO-Crate created successfully with schema.json included.\")"
   ]
  },
  {
   "cell_type": "code",
   "execution_count": null,
   "id": "f95356a3-2162-4996-8179-60d9d9bc519a",
   "metadata": {},
   "outputs": [],
   "source": []
  }
 ],
 "metadata": {
  "kernelspec": {
   "display_name": "Python 3 (ipykernel)",
   "language": "python",
   "name": "python3"
  },
  "language_info": {
   "codemirror_mode": {
    "name": "ipython",
    "version": 3
   },
   "file_extension": ".py",
   "mimetype": "text/x-python",
   "name": "python",
   "nbconvert_exporter": "python",
   "pygments_lexer": "ipython3",
   "version": "3.11.7"
  }
 },
 "nbformat": 4,
 "nbformat_minor": 5
}
