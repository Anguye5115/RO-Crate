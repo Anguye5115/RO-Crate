{
 "cells": [
  {
   "cell_type": "code",
   "execution_count": 177,
   "id": "f95356a3-2162-4996-8179-60d9d9bc519a",
   "metadata": {},
   "outputs": [
    {
     "name": "stdout",
     "output_type": "stream",
     "text": [
      "Header: ['x', 'y', 'data_set']\n",
      "RO-Crate created.\n"
     ]
    }
   ],
   "source": [
    "from rocrate.rocrate import ROCrate\n",
    "from frictionless import Resource\n",
    "\n",
    "# Create a new ROCrate\n",
    "crate = ROCrate()\n",
    "\n",
    "# Example dataset properties\n",
    "dataset_properties = {\n",
    "    \"name\": \"Example RO-Crate Dataset\",\n",
    "    \"description\": \"An example dataset included in an RO-Crate.\"\n",
    "}\n",
    "\n",
    "# Define your ad-hoc term and its JSON-LD context for column headers\n",
    "column_header_context = {\n",
    "    \"@id\": \"https://example.org/vocab#column_header\",\n",
    "    \"@type\": \"@id\",\n",
    "    \"rdfs:label\": \"Column Header\",\n",
    "    \"rdfs:comment\": \"Represents the header of a column in a dataset.\"\n",
    "    # Add more properties as needed\n",
    "}\n",
    "\n",
    "# Add the ad-hoc context for column headers to the ROCrate metadata\n",
    "context = crate.metadata.get('@context', {})\n",
    "context.update(column_header_context)\n",
    "crate.metadata._jsonld[\"@context\"] = context\n",
    "\n",
    "# Add dataset-level JSON-LD context with the link to column_header term\n",
    "dataset_properties[\"@context\"] = {\n",
    "    \"column_header\": \"https://w3id.org/ro/terms/criminalcharacters#column_header\"\n",
    "}\n",
    "\n",
    "# Add the dataset entity to the ROCrate for the .csv file, including its properties and ad-hoc context\n",
    "dataset_entity = crate.add_file(\"data/free_energy_1a.csv\", properties=dataset_properties)\n",
    "\n",
    "# Use frictionless to load and describe your dataset\n",
    "with Resource(\"data/free_energy_1a.csv\") as resource_loader:\n",
    "    print(f\"Header: {resource_loader.header}\")\n",
    "\n",
    "    # Set resource properties for the .csv file\n",
    "    resource_properties = {\n",
    "        \"name\": \"Free Energy Dataset Resource\",\n",
    "        \"description\": \"Resource containing free energy measurements.\"\n",
    "    }\n",
    "\n",
    "    # Add the resource entity for the .csv file to the dataset entity\n",
    "    resource_entity = crate.add_file(\"data/free_energy_1a.csv\", properties=resource_properties)\n",
    "\n",
    "# Save the ROCrate\n",
    "crate.write(\"crate\")\n",
    "\n",
    "print(\"RO-Crate created.\")"
   ]
  },
  {
   "cell_type": "code",
   "execution_count": null,
   "id": "ea547d4e-8a8f-43c6-80a2-5969e2f0537c",
   "metadata": {},
   "outputs": [],
   "source": []
  }
 ],
 "metadata": {
  "kernelspec": {
   "display_name": "Python 3 (ipykernel)",
   "language": "python",
   "name": "python3"
  },
  "language_info": {
   "codemirror_mode": {
    "name": "ipython",
    "version": 3
   },
   "file_extension": ".py",
   "mimetype": "text/x-python",
   "name": "python",
   "nbconvert_exporter": "python",
   "pygments_lexer": "ipython3",
   "version": "3.11.7"
  }
 },
 "nbformat": 4,
 "nbformat_minor": 5
}
