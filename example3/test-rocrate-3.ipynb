{
 "cells": [
  {
   "cell_type": "code",
   "execution_count": null,
   "id": "e07e1e2e-72f3-4fb7-a227-24addce6acd6",
   "metadata": {},
   "outputs": [],
   "source": []
  }
 ],
 "metadata": {
  "kernelspec": {
   "display_name": "",
   "name": ""
  },
  "language_info": {
   "name": ""
  }
 },
 "nbformat": 4,
 "nbformat_minor": 5
}
