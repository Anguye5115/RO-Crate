{
 "cells": [
  {
   "cell_type": "code",
   "execution_count": 7,
   "id": "bf710f25-52dc-4d0d-9383-e83c8e18a47b",
   "metadata": {},
   "outputs": [
    {
     "data": {
      "text/plain": [
       "'{\\n  \"fields\": [\\n    {\\n      \"name\": \"@context\",\\n      \"type\": \"string\"\\n    },\\n    {\\n      \"name\": \"@graph\",\\n      \"type\": \"array\"\\n    }\\n  ]\\n}'"
      ]
     },
     "execution_count": 7,
     "metadata": {},
     "output_type": "execute_result"
    }
   ],
   "source": [
    "from frictionless import Schema\n",
    "\n",
    "# Create a schema for the RO-Crate metadata\n",
    "rocrate_schema = Schema.from_descriptor({\n",
    "    \"fields\": [\n",
    "        {\"name\": \"@context\", \"type\": \"string\"},\n",
    "        {\"name\": \"@graph\", \"type\": \"array\"}\n",
    "    ]\n",
    "})\n",
    "rocrate_schema.to_json(\"rocrate_schema.json\")"
   ]
  },
  {
   "cell_type": "code",
   "execution_count": 9,
   "id": "f95356a3-2162-4996-8179-60d9d9bc519a",
   "metadata": {},
   "outputs": [
    {
     "name": "stdout",
     "output_type": "stream",
     "text": [
      "RO-Crate created successfully with schema.json included.\n"
     ]
    }
   ],
   "source": [
    "from rocrate.rocrate import ROCrate\n",
    "from frictionless import Schema\n",
    "\n",
    "# Create the Frictionless schema\n",
    "schema = Schema.from_descriptor({\n",
    "    \"fields\": [\n",
    "        {\"name\": \"x\", \"type\": \"string\", \"constraints\": {\"required\": True}},\n",
    "        {\"name\": \"y\", \"type\": \"number\", \"constraints\": {\"required\": True}},\n",
    "        {\"name\": \"data_set\", \"type\": \"string\", \"constraints\": {\"required\": True}}\n",
    "    ]\n",
    "})\n",
    "schema.to_json(\"schema.json\")\n",
    "\n",
    "# Create the RO-Crate\n",
    "crate = ROCrate()\n",
    "\n",
    "# Add metadata to the root dataset\n",
    "root_dataset = crate.root_dataset\n",
    "# root_dataset[\"name\"] = \"Example RO-Crate\"\n",
    "root_dataset[\"description\"] = \"This RO-Crate includes a Frictionless schema.\"\n",
    "root_dataset[\"creator\"] = {\"@id\": \"https://orcid.org/0000-0000-0000-0000\"}\n",
    "\n",
    "# Add the schema file to the crate\n",
    "schema_file = crate.add_file(\"schema.json\", properties={\n",
    "    \"@type\": \"File\",\n",
    "    \"name\": \"Schema\",\n",
    "    \"encodingFormat\": \"application/json\"\n",
    "})\n",
    "\n",
    "# Save the crate\n",
    "crate.write(\"crate\")\n",
    "\n",
    "print(\"RO-Crate created successfully with schema.json included.\")"
   ]
  },
  {
   "cell_type": "code",
   "execution_count": 11,
   "id": "9607d34f-c7f6-439c-ab14-be0cdce30afc",
   "metadata": {},
   "outputs": [
    {
     "name": "stdout",
     "output_type": "stream",
     "text": [
      "{'valid': True,\n",
      " 'stats': {'tasks': 1, 'errors': 0, 'warnings': 0, 'seconds': 0.007},\n",
      " 'warnings': [],\n",
      " 'errors': [],\n",
      " 'tasks': [{'name': 'ro-crate-metadata',\n",
      "            'type': 'json',\n",
      "            'valid': True,\n",
      "            'place': 'crate/ro-crate-metadata.json',\n",
      "            'labels': [],\n",
      "            'stats': {'errors': 0, 'warnings': 0, 'seconds': 0.007},\n",
      "            'warnings': [],\n",
      "            'errors': []}]}\n"
     ]
    }
   ],
   "source": [
    "from frictionless import Resource, validate\n",
    "\n",
    "# Validate the ro-crate-metadata.json file\n",
    "resource = Resource(\"crate/ro-crate-metadata.json\", schema=\"rocrate_schema.json\")\n",
    "report = resource.validate()\n",
    "\n",
    "# Print the validation report\n",
    "print(report)"
   ]
  },
  {
   "cell_type": "code",
   "execution_count": 13,
   "id": "9d430a9b-65f1-4c00-917e-952d41867852",
   "metadata": {},
   "outputs": [
    {
     "name": "stdout",
     "output_type": "stream",
     "text": [
      "All required properties are present in the root dataset.\n"
     ]
    }
   ],
   "source": [
    "import json\n",
    "\n",
    "# Load the ro-crate-metadata.json file\n",
    "with open(\"crate/ro-crate-metadata.json\") as f:\n",
    "    metadata = json.load(f)\n",
    "\n",
    "# Check for required properties in the root dataset\n",
    "root_dataset = next(item for item in metadata[\"@graph\"] if item[\"@id\"] == \"./\")\n",
    "required_properties = [\"name\", \"description\", \"creator\"]\n",
    "\n",
    "missing_properties = [prop for prop in required_properties if prop not in root_dataset]\n",
    "if missing_properties:\n",
    "    print(f\"Missing properties in root dataset: {missing_properties}\")\n",
    "else:\n",
    "    print(\"All required properties are present in the root dataset.\")"
   ]
  },
  {
   "cell_type": "code",
   "execution_count": null,
   "id": "b0e38faf-d3da-4248-94d5-c60e0405ed44",
   "metadata": {},
   "outputs": [],
   "source": []
  }
 ],
 "metadata": {
  "kernelspec": {
   "display_name": "Python 3 (ipykernel)",
   "language": "python",
   "name": "python3"
  },
  "language_info": {
   "codemirror_mode": {
    "name": "ipython",
    "version": 3
   },
   "file_extension": ".py",
   "mimetype": "text/x-python",
   "name": "python",
   "nbconvert_exporter": "python",
   "pygments_lexer": "ipython3",
   "version": "3.11.7"
  }
 },
 "nbformat": 4,
 "nbformat_minor": 5
}
