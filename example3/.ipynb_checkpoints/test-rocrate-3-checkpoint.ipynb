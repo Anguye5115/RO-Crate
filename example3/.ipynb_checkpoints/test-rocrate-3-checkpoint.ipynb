{
 "cells": [
  {
   "cell_type": "code",
   "execution_count": 65,
   "id": "bf710f25-52dc-4d0d-9383-e83c8e18a47b",
   "metadata": {},
   "outputs": [
    {
     "name": "stdout",
     "output_type": "stream",
     "text": [
      "{'valid': True,\n",
      " 'stats': {'tasks': 1, 'errors': 0, 'warnings': 0, 'seconds': 0.003},\n",
      " 'warnings': [],\n",
      " 'errors': [],\n",
      " 'tasks': [{'name': 'free_energy_1a',\n",
      "            'type': 'table',\n",
      "            'valid': True,\n",
      "            'place': 'data/free_energy_1a.csv',\n",
      "            'labels': ['x', 'y', 'data_set'],\n",
      "            'stats': {'errors': 0,\n",
      "                      'warnings': 0,\n",
      "                      'seconds': 0.003,\n",
      "                      'md5': '52166a63dcadda78a86fbc21e5152354',\n",
      "                      'sha256': '4be33e5c33b6b92f8ecf04068c42fb15aa4ed25f03aa6202eba6db240a593539',\n",
      "                      'bytes': 442,\n",
      "                      'fields': 3,\n",
      "                      'rows': 9},\n",
      "            'warnings': [],\n",
      "            'errors': []}]}\n"
     ]
    }
   ],
   "source": [
    "from rocrate.rocrate import ROCrate\n",
    "from frictionless import Schema, validate, Resource\n",
    "\n",
    "crate = ROCrate()\n",
    "\n",
    "schema = Schema.from_descriptor({\n",
    "    \"fields\": [\n",
    "        {\n",
    "            \"name\": \"x\",\n",
    "            \"type\": \"number\",\n",
    "            \"constraints\": {\"required\": True}\n",
    "        },\n",
    "        {\n",
    "            \"name\": \"y\",\n",
    "            \"type\": \"number\",\n",
    "            \"constraints\": {\"required\": True}\n",
    "        },\n",
    "        {\n",
    "            \"name\": \"data_set\",\n",
    "            \"type\": \"string\",\n",
    "            \"constraints\": {\"required\": True}\n",
    "        }\n",
    "    ]\n",
    "}) \n",
    "\n",
    "# Validate the CSV file against the schema\n",
    "report = validate('data/free_energy_1a.csv', schema=schema)\n",
    "\n",
    "# Print the report\n",
    "print(report)"
   ]
  },
  {
   "cell_type": "code",
   "execution_count": null,
   "id": "f95356a3-2162-4996-8179-60d9d9bc519a",
   "metadata": {},
   "outputs": [],
   "source": []
  }
 ],
 "metadata": {
  "kernelspec": {
   "display_name": "Python 3 (ipykernel)",
   "language": "python",
   "name": "python3"
  },
  "language_info": {
   "codemirror_mode": {
    "name": "ipython",
    "version": 3
   },
   "file_extension": ".py",
   "mimetype": "text/x-python",
   "name": "python",
   "nbconvert_exporter": "python",
   "pygments_lexer": "ipython3",
   "version": "3.11.7"
  }
 },
 "nbformat": 4,
 "nbformat_minor": 5
}
