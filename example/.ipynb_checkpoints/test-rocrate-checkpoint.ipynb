{
 "cells": [
  {
   "cell_type": "markdown",
   "id": "121d1cda-9ba7-48fa-86ca-e4d9a7edb9c6",
   "metadata": {},
   "source": [
    "# Example of creating an ro-crate from a PFHub example\n",
    "\n",
    "## Generate the generic data\n",
    "\n",
    "The first step is to generate generic data associated with the root dataset."
   ]
  },
  {
   "cell_type": "code",
   "execution_count": 62,
   "id": "1a0d88d2-bdf6-4c03-8f9a-b5614310c5ee",
   "metadata": {},
   "outputs": [
    {
     "ename": "SyntaxError",
     "evalue": "invalid syntax (3681528474.py, line 1)",
     "output_type": "error",
     "traceback": [
      "\u001b[1;36m  Cell \u001b[1;32mIn[62], line 1\u001b[1;36m\u001b[0m\n\u001b[1;33m    git clone https://github.com/KockataEPich/CheckMyCrate.git\u001b[0m\n\u001b[1;37m        ^\u001b[0m\n\u001b[1;31mSyntaxError\u001b[0m\u001b[1;31m:\u001b[0m invalid syntax\n"
     ]
    }
   ],
   "source": [
    "git clone https://github.com/KockataEPich/CheckMyCrate.git"
   ]
  },
  {
   "cell_type": "code",
   "execution_count": 4,
   "id": "c2d0c69c-e553-45cc-9df3-4e0246f20912",
   "metadata": {},
   "outputs": [
    {
     "ename": "TypeError",
     "evalue": "'ROCrate' object does not support item assignment",
     "output_type": "error",
     "traceback": [
      "\u001b[1;31m---------------------------------------------------------------------------\u001b[0m",
      "\u001b[1;31mTypeError\u001b[0m                                 Traceback (most recent call last)",
      "Cell \u001b[1;32mIn[4], line 79\u001b[0m\n\u001b[0;32m     69\u001b[0m test \u001b[38;5;241m=\u001b[39m crate\u001b[38;5;241m.\u001b[39madd(Entity(\n\u001b[0;32m     70\u001b[0m     crate,\n\u001b[0;32m     71\u001b[0m     identifier \u001b[38;5;241m=\u001b[39m test_id,\n\u001b[1;32m   (...)\u001b[0m\n\u001b[0;32m     75\u001b[0m     })\n\u001b[0;32m     76\u001b[0m )\n\u001b[0;32m     78\u001b[0m crate\u001b[38;5;241m.\u001b[39mlicense \u001b[38;5;241m=\u001b[39m license\n\u001b[1;32m---> 79\u001b[0m crate[\u001b[38;5;124m\"\u001b[39m\u001b[38;5;124mauthor\u001b[39m\u001b[38;5;124m\"\u001b[39m] \u001b[38;5;241m=\u001b[39m wheeler\n\u001b[0;32m     80\u001b[0m crate\u001b[38;5;241m.\u001b[39mroot_dataset[\u001b[38;5;124m\"\u001b[39m\u001b[38;5;124mmainEntity\u001b[39m\u001b[38;5;124m\"\u001b[39m] \u001b[38;5;241m=\u001b[39m test\n\u001b[0;32m     81\u001b[0m crate\u001b[38;5;241m.\u001b[39mdescription \u001b[38;5;241m=\u001b[39m \u001b[38;5;124m\"\u001b[39m\u001b[38;5;124mAn example of generating an ro-crate from a PFHub result, for now this is only focused on the computational platform, environment and implementation\u001b[39m\u001b[38;5;124m\"\u001b[39m\n",
      "\u001b[1;31mTypeError\u001b[0m: 'ROCrate' object does not support item assignment"
     ]
    }
   ],
   "source": [
    "from rocrate.rocrate import ROCrate\n",
    "from rocrate.model.person import Person\n",
    "from rocrate.model.entity import Entity\n",
    "from rocrate.model.computationalworkflow import ComputationalWorkflow\n",
    "from rocrate.model.contextentity import ContextEntity\n",
    "\n",
    "# List of items in this ro-crate\n",
    "#\n",
    "#   - Authorship\n",
    "#     - Orcid\n",
    "#     - Name\n",
    "#   - One input files\n",
    "#   - Two output files\n",
    "#   - license\n",
    "#   \n",
    "# 0) Validaate \n",
    "#    - look at tools\n",
    "#    - https://github.com/KockataEPich/CheckMyCrate\n",
    "# 1) Start with the pfhub.yaml\n",
    "#      - What can we reimplement from that?\n",
    "#        - Add the repository details for the particular simulation\\\n",
    "#          - URL to repo + hash\n",
    "#        - column names\n",
    "#        - start time\n",
    "#        - end time\n",
    "#        - software library details\n",
    "# What else should we add?\n",
    "#   - more environment metadata\n",
    "#     - more files\n",
    "\n",
    "crate = ROCrate()\n",
    "\n",
    "yaml = crate.add_file(\"data/pfhub.yaml\", properties={\n",
    "    \"name\": \"PFHub meta data file\",\n",
    "    \"encodingFormat\": \"text/yaml\"\n",
    "})\n",
    "csv = crate.add_file(\"data/free_energy_1a.csv\", properties={\n",
    "    \"name\": \"Free Energy\",\n",
    "    \"encodingFormat\": \"text/csv\"\n",
    "})\n",
    "\n",
    "license_id = \"https://spdx.org/licenses/CC0-1.0\"\n",
    "wheeler_id = \"https://orcid.org/0000-0002-2653-7418\"\n",
    "keller_id = \"https://orcid.org/0000-0002-2920-8302\"\n",
    "test_id = \"https://schema.org/mainEntity\"\n",
    "\n",
    "\n",
    "\n",
    "wheeler = crate.add(\n",
    "    Person(\n",
    "        crate,\n",
    "        wheeler_id,\n",
    "        properties=dict(name=\"Daniel Wheeler\", affiliation=\"NIST\")\n",
    "    )\n",
    ")\n",
    "\n",
    "license = crate.add(Entity(\n",
    "    crate,\n",
    "    identifier=license_id,\n",
    "    properties={\n",
    "        \"@type\": \"CreativeWork\",\n",
    "        \"name\": \"CC0-1.0\",\n",
    "        \"description\": \"Creative Commons Zero v1.0 Universal\",\n",
    "        \"url\": \"https://creativecommons.org/publicdomain/zero/1.0/\"\n",
    "    }\n",
    "    )\n",
    ")\n",
    "\n",
    "test = crate.add(Entity(\n",
    "    crate,\n",
    "    identifier = test_id,\n",
    "    properties = {\n",
    "        \"@type\": \"mainEntity\",\n",
    "        \"url\": \"https://schema.org/mainEntity\"\n",
    "    })\n",
    ")\n",
    "\n",
    "crate.license = license\n",
    "crate.license[\"author\"] = wheeler\n",
    "crate.root_dataset[\"mainEntity\"] = test\n",
    "crate.description = \"An example of generating an ro-crate from a PFHub result, for now this is only focused on the computational platform, environment and implementation\"\n",
    "\n",
    "#from metadata list on workflow hub https://about.workflowhub.eu/docs/metadata-list/\n",
    "crate.root_dataset[\"title\"] = \"PFHub title: fipy_1a_travis\"\n"
   ]
  },
  {
   "cell_type": "code",
   "execution_count": 82,
   "id": "6cbd55d6-0f5a-4d65-b246-0c9e04a34154",
   "metadata": {},
   "outputs": [],
   "source": [
    "crate.metadata.append_to(\"conformsTo\", {\"@id\":\"https://w3id.org/workflowhub/workflow-ro-crate/1.0\"})"
   ]
  },
  {
   "cell_type": "markdown",
   "id": "17af5318-4314-46dd-9d01-51f88778e6b1",
   "metadata": {},
   "source": [
    "## Platform data\n",
    "\n",
    "Let's try and use this data taken from the [ir_metadata website](https://www.ir-metadata.org/metadata/platform/).\n",
    "\n",
    "```\n",
    "platform:\n",
    "  hardware:\n",
    "    cpu:\n",
    "      model: Intel(R) Xeon(R) Gold 6144 CPU @ 3.50GHz\n",
    "      architecture: x86_64\n",
    "      operation mode: 64-bit\n",
    "      number of cores: 16\n",
    "    gpu:\n",
    "      model: NVIDIA RTX A6000\n",
    "      memory: 48 GB\n",
    "      number of cores: 10752\n",
    "    ram: 32 GB\n",
    "  operating system:\n",
    "    kernel: GNU/Linux 4.15.0-166-generic\n",
    "    distribution: Ubuntu 18.04.5 LTS\n",
    "  software:\n",
    "    libraries:\n",
    "      python:\n",
    "      - blas==1.0\n",
    "      - libgfortran==3.0.1\n",
    "      - libxml2==2.9.8\n",
    "      - lightgbm==2.2.1\n",
    "      - ncurses==6.1\n",
    "      - numpy==1.15.4\n",
    "      - numpy-base==1.15.4\n",
    "      - scikit-learn==0.20.1\n",
    "      - scipy==1.1.0\n",
    "      - setuptools==40.6.2\n",
    "      java:\n",
    "      - lucene==7.6\n",
    "    retrieval toolkit:\n",
    "    - anserini==0.3.0\n",
    "```\n",
    "\n",
    "This is currently too difficult so don't have good way to approach this yet."
   ]
  },
  {
   "cell_type": "markdown",
   "id": "40c811b7-d37e-48c6-a563-42f97be34147",
   "metadata": {},
   "source": [
    "## Finally write out the data into a new directory alongside the ro-crate-medata.json file"
   ]
  },
  {
   "cell_type": "code",
   "execution_count": 84,
   "id": "e17e4477-066e-4131-8b30-f91a576e19cf",
   "metadata": {},
   "outputs": [
    {
     "data": {
      "text/plain": [
       "<https://github.com/usnistgov/FiPy-spinodal-decomposition-benchmark/blob/main/periodic/cahn-hilliard.py ['File', 'SoftwareSourceCode', 'ComputationalWorkflow']>"
      ]
     },
     "execution_count": 84,
     "metadata": {},
     "output_type": "execute_result"
    }
   ],
   "source": [
    "keller = crate.add(\n",
    "    Person(\n",
    "        crate,\n",
    "        keller_id,\n",
    "        properties=dict(name=\"Trevor Keller\", affiliation=\"NIST\")\n",
    "    )\n",
    ")\n",
    "workflow = crate.add_workflow('https://github.com/usnistgov/FiPy-spinodal-decomposition-benchmark/blob/main/periodic/cahn-hilliard.py')\n",
    "workflow.programmingLanguage = \"Python 3.10\"\n",
    "workflow[\"creator\"] = keller\n",
    "workflow[\"dateCreated\"] = \"2017-01-09\"\n",
    "crate.add(workflow)"
   ]
  },
  {
   "cell_type": "code",
   "execution_count": 100,
   "id": "aa50ebc1-ecda-4338-8e6d-78fe12dbd3a9",
   "metadata": {},
   "outputs": [
    {
     "name": "stdout",
     "output_type": "stream",
     "text": [
      "{\n",
      "    \"@context\": \"https://w3id.org/ro/crate/1.1/context\",\n",
      "    \"@graph\": [\n",
      "        {\n",
      "            \"@id\": \"./\",\n",
      "            \"@type\": \"Dataset\",\n",
      "            \"author\": {\n",
      "                \"@id\": \"https://orcid.org/0000-0002-2653-7418\"\n",
      "            },\n",
      "            \"datePublished\": \"2024-06-17T18:20:11+00:00\",\n",
      "            \"description\": \"An example of generating an ro-crate from a PFHub result, for now this is only focused on the computational platform, environment and implementation\",\n",
      "            \"hasPart\": [\n",
      "                {\n",
      "                    \"@id\": \"pfhub.yaml\"\n",
      "                },\n",
      "                {\n",
      "                    \"@id\": \"free_energy_1a.csv\"\n",
      "                }\n",
      "            ],\n",
      "            \"license\": {\n",
      "                \"@id\": \"https://spdx.org/licenses/CC0-1.0\"\n",
      "            },\n",
      "            \"mainEntity\": {\n",
      "                \"@id\": \"https://schema.org/mainEntity\"\n",
      "            },\n",
      "            \"title\": \"PFHub title: fipy_1a_travis\"\n",
      "        },\n",
      "        {\n",
      "            \"@id\": \"ro-crate-metadata.json\",\n",
      "            \"@type\": \"CreativeWork\",\n",
      "            \"about\": {\n",
      "                \"@id\": \"./\"\n",
      "            },\n",
      "            \"conformsTo\": {\n",
      "                \"@id\": \"https://w3id.org/ro/crate/1.1\"\n",
      "            }\n",
      "        },\n",
      "        {\n",
      "            \"@id\": \"pfhub.yaml\",\n",
      "            \"@type\": \"File\",\n",
      "            \"encodingFormat\": \"text/yaml\",\n",
      "            \"name\": \"PFHub meta data file\"\n",
      "        },\n",
      "        {\n",
      "            \"@id\": \"free_energy_1a.csv\",\n",
      "            \"@type\": \"File\",\n",
      "            \"encodingFormat\": \"text/csv\",\n",
      "            \"name\": \"Free Energy\"\n",
      "        },\n",
      "        {\n",
      "            \"@id\": \"https://orcid.org/0000-0002-2653-7418\",\n",
      "            \"@type\": \"Person\",\n",
      "            \"affiliation\": \"NIST\",\n",
      "            \"name\": \"Daniel Wheeler\"\n",
      "        },\n",
      "        {\n",
      "            \"@id\": \"https://spdx.org/licenses/CC0-1.0\",\n",
      "            \"@type\": \"CreativeWork\",\n",
      "            \"description\": \"Creative Commons Zero v1.0 Universal\",\n",
      "            \"name\": \"CC0-1.0\",\n",
      "            \"url\": \"https://creativecommons.org/publicdomain/zero/1.0/\"\n",
      "        },\n",
      "        {\n",
      "            \"@id\": \"https://schema.org/mainEntity\",\n",
      "            \"@type\": \"mainEntity\",\n",
      "            \"url\": \"https://schema.org/mainEntity\"\n",
      "        }\n",
      "    ]\n",
      "}\n"
     ]
    }
   ],
   "source": [
    "crate.write(\"exp_crate1\")\n",
    "!cat exp_crate1/ro-crate-metadata.json"
   ]
  }
 ],
 "metadata": {
  "kernelspec": {
   "display_name": "Python 3 (ipykernel)",
   "language": "python",
   "name": "python3"
  },
  "language_info": {
   "codemirror_mode": {
    "name": "ipython",
    "version": 3
   },
   "file_extension": ".py",
   "mimetype": "text/x-python",
   "name": "python",
   "nbconvert_exporter": "python",
   "pygments_lexer": "ipython3",
   "version": "3.11.7"
  }
 },
 "nbformat": 4,
 "nbformat_minor": 5
}
