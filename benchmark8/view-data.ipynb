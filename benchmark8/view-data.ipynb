{
 "cells": [
  {
   "cell_type": "code",
   "execution_count": 1,
   "id": "d0a97ab9-d619-4be8-b3c4-768bba5ce5c1",
   "metadata": {},
   "outputs": [
    {
     "name": "stdout",
     "output_type": "stream",
     "text": [
      " stats.txt\t  't=28.0.tar.gz'  't=52.0.tar.gz'  't=77.0.tar.gz'\n",
      " stats.txt.save   't=29.0.tar.gz'  't=53.0.tar.gz'  't=78.0.tar.gz'\n",
      "'t=0.0.tar'\t  't=30.0.tar.gz'  't=54.0.tar.gz'  't=79.0.tar.gz'\n",
      "'t=0.0.tar.gz'\t  't=3.0.tar.gz'   't=55.0.tar.gz'  't=80.0.tar.gz'\n",
      "'t=100.0.tar.gz'  't=31.0.tar.gz'  't=56.0.tar.gz'  't=8.0.tar.gz'\n",
      "'t=10.0.tar.gz'   't=32.0.tar.gz'  't=57.0.tar.gz'  't=81.0.tar.gz'\n",
      "'t=101.0.tar.gz'  't=33.0.tar.gz'  't=58.0.tar.gz'  't=82.0.tar.gz'\n",
      "'t=102.0.tar.gz'  't=34.0.tar.gz'  't=59.0.tar.gz'  't=83.0.tar.gz'\n",
      "'t=1.0.tar.gz'\t  't=35.0.tar.gz'  't=60.0.tar.gz'  't=84.0.tar.gz'\n",
      "'t=11.0.tar.gz'   't=36.0.tar.gz'  't=6.0.tar.gz'   't=85.0.tar.gz'\n",
      "'t=12.0.tar.gz'   't=37.0.tar.gz'  't=61.0.tar.gz'  't=86.0.tar.gz'\n",
      "'t=13.0.tar.gz'   't=38.0.tar.gz'  't=62.0.tar.gz'  't=87.0.tar.gz'\n",
      "'t=14.0.tar.gz'   't=39.0.tar.gz'  't=63.0.tar.gz'  't=88.0.tar.gz'\n",
      "'t=15.0.tar.gz'   't=40.0.tar.gz'  't=64.0.tar.gz'  't=89.0.tar.gz'\n",
      "'t=16.0.tar.gz'   't=4.0.tar.gz'   't=65.0.tar.gz'  't=90.0.tar.gz'\n",
      "'t=17.0.tar.gz'   't=41.0.tar.gz'  't=66.0.tar.gz'  't=9.0.tar.gz'\n",
      "'t=18.0.tar.gz'   't=42.0.tar.gz'  't=67.0.tar.gz'  't=91.0.tar.gz'\n",
      "'t=19.0.tar.gz'   't=43.0.tar.gz'  't=68.0.tar.gz'  't=92.0.tar.gz'\n",
      "'t=20.0.tar.gz'   't=44.0.tar.gz'  't=69.0.tar.gz'  't=93.0.tar.gz'\n",
      "'t=2.0.tar.gz'\t  't=45.0.tar.gz'  't=70.0.tar.gz'  't=94.0.tar.gz'\n",
      "'t=21.0.tar.gz'   't=46.0.tar.gz'  't=7.0.tar.gz'   't=95.0.tar.gz'\n",
      "'t=22.0.tar.gz'   't=47.0.tar.gz'  't=71.0.tar.gz'  't=96.0.tar.gz'\n",
      "'t=23.0.tar.gz'   't=48.0.tar.gz'  't=72.0.tar.gz'  't=97.0.tar.gz'\n",
      "'t=24.0.tar.gz'   't=49.0.tar.gz'  't=73.0.tar.gz'  't=98.0.tar.gz'\n",
      "'t=25.0.tar.gz'   't=50.0.tar.gz'  't=74.0.tar.gz'  't=99.0.tar.gz'\n",
      "'t=26.0.tar.gz'   't=5.0.tar.gz'   't=75.0.tar.gz'\n",
      "'t=27.0.tar.gz'   't=51.0.tar.gz'  't=76.0.tar.gz'\n"
     ]
    }
   ],
   "source": [
    "!ls data"
   ]
  },
  {
   "cell_type": "code",
   "execution_count": 2,
   "id": "eb65618f-80a5-4cd7-831e-8cebba36d287",
   "metadata": {},
   "outputs": [
    {
     "data": {
      "text/plain": [
       "<matplotlib.image.AxesImage at 0x7faf27f33ad0>"
      ]
     },
     "execution_count": 2,
     "metadata": {},
     "output_type": "execute_result"
    },
    {
     "data": {
      "image/png": "[encoded data removed]",
      "text/plain": [
       "<Figure size 640x480 with 1 Axes>"
      ]
     },
     "metadata": {},
     "output_type": "display_data"
    }
   ],
   "source": [
    "import fipy\n",
    "import numpy as np\n",
    "import matplotlib.pyplot as plt\n",
    "\n",
    "aa = fipy.tools.dump.read('data/t=101.0.tar.gz')\n",
    "aa\n",
    "type(aa)\n",
    "v = aa[0]\n",
    "arr = v.value\n",
    "arr_ = np.reshape(arr, (249, 249))\n",
    "plt.imshow(arr_)"
   ]
  },
  {
   "cell_type": "code",
   "execution_count": 41,
   "id": "f456f6f2-bf8c-480b-8a44-bec20302ed11",
   "metadata": {},
   "outputs": [],
   "source": [
    "# viewer.plot()"
   ]
  },
  {
   "cell_type": "code",
   "execution_count": 4,
   "id": "100a51e8-6e96-457c-9ada-95978fa286ac",
   "metadata": {},
   "outputs": [
    {
     "ename": "ModuleNotFoundError",
     "evalue": "No module named 'natsort'",
     "output_type": "error",
     "traceback": [
      "\u001b[0;31m---------------------------------------------------------------------------\u001b[0m",
      "\u001b[0;31mModuleNotFoundError\u001b[0m                       Traceback (most recent call last)",
      "Cell \u001b[0;32mIn[4], line 6\u001b[0m\n\u001b[1;32m      4\u001b[0m \u001b[38;5;28;01mfrom\u001b[39;00m \u001b[38;5;21;01mpathlib\u001b[39;00m \u001b[38;5;28;01mimport\u001b[39;00m Path\n\u001b[1;32m      5\u001b[0m \u001b[38;5;28;01mimport\u001b[39;00m \u001b[38;5;21;01mfipy\u001b[39;00m\n\u001b[0;32m----> 6\u001b[0m \u001b[38;5;28;01mfrom\u001b[39;00m \u001b[38;5;21;01mnatsort\u001b[39;00m \u001b[38;5;28;01mimport\u001b[39;00m natsorted\n\u001b[1;32m      8\u001b[0m \u001b[38;5;66;03m# Directory path where your data files are located\u001b[39;00m\n\u001b[1;32m      9\u001b[0m directory_path \u001b[38;5;241m=\u001b[39m Path(\u001b[38;5;124m'\u001b[39m\u001b[38;5;124m/users/aan2/Desktop/surf-2024-austyn-nguyen/benchmark8/data\u001b[39m\u001b[38;5;124m'\u001b[39m)\n",
      "\u001b[0;31mModuleNotFoundError\u001b[0m: No module named 'natsort'"
     ]
    }
   ],
   "source": [
    "import numpy as np\n",
    "import matplotlib.pyplot as plt\n",
    "import matplotlib.animation as animation\n",
    "from pathlib import Path\n",
    "import fipy\n",
    "from natsort import natsorted\n",
    "\n",
    "# Directory path where your data files are located\n",
    "directory_path = Path('/users/aan2/Desktop/surf-2024-austyn-nguyen/benchmark8/data')\n",
    "\n",
    "# List to store frames of your animation\n",
    "animation_frames = []\n",
    "\n",
    "# Get the list of files in the directory and sort them naturally\n",
    "sorted_files = natsorted(directory_path.iterdir())\n",
    "\n",
    "# Iterate through each file in the sorted directory\n",
    "for file_path in sorted_files:\n",
    "    if file_path.is_file() and file_path.name.startswith('t') and file_path.name.endswith('.gz'):\n",
    "        # Load data from the file using fipy.tools.dump.read (assuming it returns aa as you mentioned)\n",
    "        aa = fipy.tools.dump.read(str(file_path))  # Convert Path object to string\n",
    "        \n",
    "        # Extract the first item (assuming it contains your variable 'v')\n",
    "        v = aa[0]\n",
    "        \n",
    "        # Assuming arr is your data reshaped to (249, 249)\n",
    "        arr = np.reshape(v.value, (249, 249))\n",
    "        \n",
    "        # Append the frame to the animation frames list\n",
    "        animation_frames.append(arr)\n",
    "\n",
    "# Create a figure and axis for the animation\n",
    "fig, ax = plt.subplots(figsize=(10, 10))\n",
    "im = ax.imshow(animation_frames[0], animated=True)\n",
    "\n",
    "# Function to update the animation frames\n",
    "def update(frame):\n",
    "    im.set_array(frame)\n",
    "    return im,\n",
    "\n",
    "# Create the animation\n",
    "ani = animation.FuncAnimation(fig, update, frames=animation_frames, interval=50, blit=True)\n",
    "\n",
    "# Save the animation as an MP4 file\n",
    "ani.save('animation.mp4', writer='ffmpeg', fps=20)\n",
    "\n",
    "plt.show()"
   ]
  },
  {
   "cell_type": "code",
   "execution_count": null,
   "id": "807cb32a-389a-4754-a928-bb3b15221ff7",
   "metadata": {},
   "outputs": [],
   "source": []
  }
 ],
 "metadata": {
  "kernelspec": {
   "display_name": "Python 3 (ipykernel)",
   "language": "python",
   "name": "python3"
  },
  "language_info": {
   "codemirror_mode": {
    "name": "ipython",
    "version": 3
   },
   "file_extension": ".py",
   "mimetype": "text/x-python",
   "name": "python",
   "nbconvert_exporter": "python",
   "pygments_lexer": "ipython3",
   "version": "3.12.4"
  }
 },
 "nbformat": 4,
 "nbformat_minor": 5
}
