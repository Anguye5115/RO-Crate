{
 "cells": [
  {
   "cell_type": "code",
   "execution_count": 18,
   "id": "bd77c86c-072a-4ce0-a1c9-1091116b19a1",
   "metadata": {},
   "outputs": [
    {
     "name": "stdout",
     "output_type": "stream",
     "text": [
      "{'name': 'free_energy_1a',\n",
      " 'type': 'table',\n",
      " 'path': 'sample_data/free_energy_1a.csv',\n",
      " 'scheme': 'file',\n",
      " 'format': 'csv',\n",
      " 'mediatype': 'text/csv',\n",
      " 'encoding': 'utf-8',\n",
      " 'schema': {'fields': [{'name': 'x', 'type': 'number'},\n",
      "                       {'name': 'y', 'type': 'number'},\n",
      "                       {'name': 'data_set', 'type': 'string'}]}}\n"
     ]
    }
   ],
   "source": [
    "from frictionless import describe\n",
    "\n",
    "resource = describe('sample_data/free_energy_1a.csv')\n",
    "print(resource)"
   ]
  },
  {
   "cell_type": "code",
   "execution_count": 28,
   "id": "4a59099f-5cde-434b-bedf-18ef1ee13f77",
   "metadata": {},
   "outputs": [
    {
     "name": "stdout",
     "output_type": "stream",
     "text": [
      "[{'x': None, 'y': Decimal('319.09096487896744'), 'data_set': 'free_energy'}, {'x': None, 'y': Decimal('318.83057833279986'), 'data_set': 'free_energy'}, {'x': None, 'y': Decimal('283.6148043822506'), 'data_set': 'free_energy'}, {'x': None, 'y': Decimal('207.903541306264'), 'data_set': 'free_energy'}, {'x': None, 'y': Decimal('197.39411290020013'), 'data_set': 'free_energy'}, {'x': None, 'y': Decimal('188.64120084392533'), 'data_set': 'free_energy'}, {'x': None, 'y': Decimal('178.87382145157355'), 'data_set': 'free_energy'}, {'x': None, 'y': Decimal('169.26132300018622'), 'data_set': 'free_energy'}, {'x': None, 'y': Decimal('162.25546973386005'), 'data_set': 'free_energy'}]\n"
     ]
    }
   ],
   "source": [
    "from frictionless import transform, steps\n",
    "\n",
    "resource = transform('sample_data/free_energy_1a.csv', steps=[steps.cell_set(field_name='x', value='new')])\n",
    "print(resource.read_rows())"
   ]
  },
  {
   "cell_type": "code",
   "execution_count": 50,
   "id": "7d2ac940-510b-4f96-8a92-1f8e182c876a",
   "metadata": {},
   "outputs": [
    {
     "name": "stdout",
     "output_type": "stream",
     "text": [
      "{'fields': [{'name': 'id',\n",
      "             'type': 'integer',\n",
      "             'constraints': {'required': True}},\n",
      "            {'name': 'name',\n",
      "             'type': 'string',\n",
      "             'constraints': {'required': True}},\n",
      "            {'name': 'age', 'type': 'integer', 'constraints': {'minimum': 0}}],\n",
      " 'missingValues': [''],\n",
      " 'primaryKey': ['id']}\n"
     ]
    }
   ],
   "source": [
    "from frictionless import Schema, Field\n",
    "\n",
    "schema = Schema(fields=[fields.StringField(name='x')]) # from fields\n",
    "schema = Schema.from_descriptor('sample_data/schema.json') # from a descriptor\n",
    "print(schema)"
   ]
  },
  {
   "cell_type": "code",
   "execution_count": 62,
   "id": "c9246510-0298-419e-a03f-45f33a8aaa60",
   "metadata": {},
   "outputs": [
    {
     "name": "stdout",
     "output_type": "stream",
     "text": [
      "{'valid': False,\n",
      " 'stats': {'tasks': 1, 'errors': 2, 'warnings': 0, 'seconds': 0.011},\n",
      " 'warnings': [],\n",
      " 'errors': [],\n",
      " 'tasks': [{'name': 'data',\n",
      "            'type': 'table',\n",
      "            'valid': False,\n",
      "            'place': 'sample_data/data.csv',\n",
      "            'labels': ['id', 'name', 'age'],\n",
      "            'stats': {'errors': 2,\n",
      "                      'warnings': 0,\n",
      "                      'seconds': 0.011,\n",
      "                      'md5': 'd0bad8c869825d5bd4ec82b03e4c842f',\n",
      "                      'sha256': 'ccdd8f7e7a5467a6b6df43bfecb89ba9d1b36f8ea083f7c7f6aedaad0506acd2',\n",
      "                      'bytes': 39,\n",
      "                      'fields': 3,\n",
      "                      'rows': 4},\n",
      "            'warnings': [],\n",
      "            'errors': [{'type': 'blank-row',\n",
      "                        'title': 'Blank Row',\n",
      "                        'description': 'This row is empty. A row should '\n",
      "                                       'contain at least one value.',\n",
      "                        'message': 'Row at position \"5\" is completely blank',\n",
      "                        'tags': ['#table', '#row'],\n",
      "                        'note': '',\n",
      "                        'cells': [],\n",
      "                        'rowNumber': 5},\n",
      "                       {'type': 'primary-key',\n",
      "                        'title': 'PrimaryKey Error',\n",
      "                        'description': 'Values in the primary key fields '\n",
      "                                       'should be unique for every row',\n",
      "                        'message': 'Row at position \"5\" violates the primary '\n",
      "                                   'key: cells composing the primary keys are '\n",
      "                                   'all \"None\"',\n",
      "                        'tags': ['#table', '#row'],\n",
      "                        'note': 'cells composing the primary keys are all '\n",
      "                                '\"None\"',\n",
      "                        'cells': [],\n",
      "                        'rowNumber': 5}]}]}\n"
     ]
    }
   ],
   "source": [
    "from frictionless import Schema, validate, Resource\n",
    "\n",
    "# Load the schema from a descriptor file\n",
    "schema = Schema.from_descriptor('sample_data/schema.json')\n",
    "\n",
    "# Validate the CSV file against the schema\n",
    "report = validate('sample_data/data.csv', schema=schema)\n",
    "\n",
    "# Print the report\n",
    "print(report)"
   ]
  },
  {
   "cell_type": "code",
   "execution_count": null,
   "id": "a8de54fd-12a3-4caf-a24f-1a78a55f7c40",
   "metadata": {},
   "outputs": [],
   "source": []
  }
 ],
 "metadata": {
  "kernelspec": {
   "display_name": "Python 3 (ipykernel)",
   "language": "python",
   "name": "python3"
  },
  "language_info": {
   "codemirror_mode": {
    "name": "ipython",
    "version": 3
   },
   "file_extension": ".py",
   "mimetype": "text/x-python",
   "name": "python",
   "nbconvert_exporter": "python",
   "pygments_lexer": "ipython3",
   "version": "3.11.7"
  }
 },
 "nbformat": 4,
 "nbformat_minor": 5
}
