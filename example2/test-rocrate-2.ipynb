{
 "cells": [
  {
   "cell_type": "code",
   "execution_count": 37,
   "id": "c9246510-0298-419e-a03f-45f33a8aaa60",
   "metadata": {},
   "outputs": [
    {
     "name": "stdout",
     "output_type": "stream",
     "text": [
      "{'valid': False,\n",
      " 'stats': {'tasks': 1, 'errors': 1, 'warnings': 0, 'seconds': 0.046},\n",
      " 'warnings': [],\n",
      " 'errors': [],\n",
      " 'tasks': [{'name': 'data',\n",
      "            'type': 'table',\n",
      "            'valid': False,\n",
      "            'place': 'sample_data/data.csv',\n",
      "            'labels': ['id', 'name', 'age'],\n",
      "            'stats': {'errors': 1,\n",
      "                      'warnings': 0,\n",
      "                      'seconds': 0.046,\n",
      "                      'md5': 'c397b4c3cf480b797a2af94ea06a29b5',\n",
      "                      'sha256': 'a5e107f68a94abaee90e30d14eed359b51005cb1afcb9099a7df72d04da6e870',\n",
      "                      'bytes': 43,\n",
      "                      'fields': 3,\n",
      "                      'rows': 3},\n",
      "            'warnings': [],\n",
      "            'errors': [{'type': 'type-error',\n",
      "                        'title': 'Type Error',\n",
      "                        'description': 'The value does not match the schema '\n",
      "                                       'type and format for this field.',\n",
      "                        'message': 'Type error in the cell \" \" in row \"4\" and '\n",
      "                                   'field \"age\" at position \"3\": type is '\n",
      "                                   '\"integer/default\"',\n",
      "                        'tags': ['#table', '#row', '#cell'],\n",
      "                        'note': 'type is \"integer/default\"',\n",
      "                        'cells': ['3', 'Jane', ' '],\n",
      "                        'rowNumber': 4,\n",
      "                        'cell': ' ',\n",
      "                        'fieldName': 'age',\n",
      "                        'fieldNumber': 3}]}]}\n"
     ]
    }
   ],
   "source": [
    "from frictionless import Schema, validate, Resource\n",
    "\n",
    "# Load the schema from a descriptor file\n",
    "schema = Schema.from_descriptor('sample_data/schema.json')\n",
    "\n",
    "# or create schema here\n",
    "# schema = Schema.from_descriptor({\n",
    "#   \"fields\": [\n",
    "#     {\n",
    "#       \"name\": \"id\",\n",
    "#       \"type\": \"integer\",\n",
    "#       \"constraints\": {\n",
    "#         \"required\": true\n",
    "#       }\n",
    "#     },\n",
    "#     {\n",
    "#       \"name\": \"name\",\n",
    "#       \"type\": \"string\",\n",
    "#       \"constraints\": {\n",
    "#         \"required\": true\n",
    "#       }\n",
    "#     },\n",
    "#     {\n",
    "#       \"name\": \"age\",\n",
    "#       \"type\": \"integer\",\n",
    "#       \"constraints\": {\n",
    "#         \"minimum\": 0\n",
    "#       }\n",
    "#     }\n",
    "#   ],\n",
    "#   \"primaryKey\": [\"id\"],\n",
    "#   \"missingValues\": [\"\"]\n",
    "# })\n",
    "\n",
    "# Validate the CSV file against the schema\n",
    "report = validate('sample_data/data.csv', schema=schema)\n",
    "\n",
    "# Print the report\n",
    "print(report)"
   ]
  },
  {
   "cell_type": "code",
   "execution_count": null,
   "id": "a8de54fd-12a3-4caf-a24f-1a78a55f7c40",
   "metadata": {},
   "outputs": [],
   "source": []
  }
 ],
 "metadata": {
  "kernelspec": {
   "display_name": "Python 3 (ipykernel)",
   "language": "python",
   "name": "python3"
  },
  "language_info": {
   "codemirror_mode": {
    "name": "ipython",
    "version": 3
   },
   "file_extension": ".py",
   "mimetype": "text/x-python",
   "name": "python",
   "nbconvert_exporter": "python",
   "pygments_lexer": "ipython3",
   "version": "3.11.7"
  }
 },
 "nbformat": 4,
 "nbformat_minor": 5
}
