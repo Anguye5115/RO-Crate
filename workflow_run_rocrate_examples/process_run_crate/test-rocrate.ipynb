{
 "cells": [
  {
   "cell_type": "markdown",
   "id": "034aad00-47af-477d-8363-aa0e63b2cfe8",
   "metadata": {},
   "source": [
    "Example of Process Run Crate"
   ]
  },
  {
   "cell_type": "code",
   "execution_count": null,
   "id": "6f5f7780-fbcc-4126-8241-c026c541c459",
   "metadata": {},
   "outputs": [],
   "source": [
    "import platform\n",
    "from rocrate.rocrate import ROCrate\n",
    "from rocrate.model.person import Person\n",
    "from rocrate.model.entity import Entity\n",
    "from rocrate.model.computationalworkflow import ComputationalWorkflow\n",
    "from rocrate.model.contextentity import ContextEntity\n",
    "\n",
    "crate = ROCrate()\n",
    "\n",
    "txt = crate.add_file(\"data/pfhub.yaml\", properties={\n",
    "    \"name\": \"PFHub meta data file\",\n",
    "    \"encodingFormat\": \"text/yaml\"\n",
    "})"
   ]
  }
 ],
 "metadata": {
  "kernelspec": {
   "display_name": "Python 3 (ipykernel)",
   "language": "python",
   "name": "python3"
  },
  "language_info": {
   "codemirror_mode": {
    "name": "ipython",
    "version": 3
   },
   "file_extension": ".py",
   "mimetype": "text/x-python",
   "name": "python",
   "nbconvert_exporter": "python",
   "pygments_lexer": "ipython3",
   "version": "3.11.7"
  }
 },
 "nbformat": 4,
 "nbformat_minor": 5
}
